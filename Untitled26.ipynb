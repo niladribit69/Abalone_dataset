{
 "cells": [
  {
   "cell_type": "code",
   "execution_count": 4,
   "metadata": {},
   "outputs": [],
   "source": [
    "import numpy as np\n",
    "import pandas as pd"
   ]
  },
  {
   "cell_type": "code",
   "execution_count": 6,
   "metadata": {},
   "outputs": [
    {
     "name": "stdout",
     "output_type": "stream",
     "text": [
      "(4177, 9)\n",
      "  Sex  Length  Diameter  Height  Whole_weight  Shucked_weight  Viscera_weight  \\\n",
      "0   M   0.455     0.365   0.095        0.5140          0.2245          0.1010   \n",
      "1   M   0.350     0.265   0.090        0.2255          0.0995          0.0485   \n",
      "2   F   0.530     0.420   0.135        0.6770          0.2565          0.1415   \n",
      "3   M   0.440     0.365   0.125        0.5160          0.2155          0.1140   \n",
      "4   I   0.330     0.255   0.080        0.2050          0.0895          0.0395   \n",
      "\n",
      "   Shell_weight  Class_number_of_rings  \n",
      "0         0.150                     15  \n",
      "1         0.070                      7  \n",
      "2         0.210                      9  \n",
      "3         0.155                     10  \n",
      "4         0.055                      7  \n"
     ]
    }
   ],
   "source": [
    "mydata=pd.read_csv('abalone_csv.csv')\n",
    "print(mydata.shape)\n",
    "print(mydata.head())"
   ]
  },
  {
   "cell_type": "code",
   "execution_count": 7,
   "metadata": {},
   "outputs": [
    {
     "name": "stderr",
     "output_type": "stream",
     "text": [
      "C:\\Users\\KIIT\\Anaconda3\\lib\\site-packages\\ipykernel_launcher.py:7: SettingWithCopyWarning: \n",
      "A value is trying to be set on a copy of a slice from a DataFrame\n",
      "\n",
      "See the caveats in the documentation: http://pandas.pydata.org/pandas-docs/stable/user_guide/indexing.html#returning-a-view-versus-a-copy\n",
      "  import sys\n",
      "C:\\Users\\KIIT\\Anaconda3\\lib\\site-packages\\ipykernel_launcher.py:8: SettingWithCopyWarning: \n",
      "A value is trying to be set on a copy of a slice from a DataFrame\n",
      "\n",
      "See the caveats in the documentation: http://pandas.pydata.org/pandas-docs/stable/user_guide/indexing.html#returning-a-view-versus-a-copy\n",
      "  \n",
      "C:\\Users\\KIIT\\Anaconda3\\lib\\site-packages\\ipykernel_launcher.py:9: SettingWithCopyWarning: \n",
      "A value is trying to be set on a copy of a slice from a DataFrame\n",
      "\n",
      "See the caveats in the documentation: http://pandas.pydata.org/pandas-docs/stable/user_guide/indexing.html#returning-a-view-versus-a-copy\n",
      "  if __name__ == '__main__':\n",
      "C:\\Users\\KIIT\\Anaconda3\\lib\\site-packages\\ipykernel_launcher.py:11: SettingWithCopyWarning: \n",
      "A value is trying to be set on a copy of a slice from a DataFrame\n",
      "\n",
      "See the caveats in the documentation: http://pandas.pydata.org/pandas-docs/stable/user_guide/indexing.html#returning-a-view-versus-a-copy\n",
      "  # This is added back by InteractiveShellApp.init_path()\n",
      "C:\\Users\\KIIT\\Anaconda3\\lib\\site-packages\\ipykernel_launcher.py:12: SettingWithCopyWarning: \n",
      "A value is trying to be set on a copy of a slice from a DataFrame\n",
      "\n",
      "See the caveats in the documentation: http://pandas.pydata.org/pandas-docs/stable/user_guide/indexing.html#returning-a-view-versus-a-copy\n",
      "  if sys.path[0] == '':\n",
      "C:\\Users\\KIIT\\Anaconda3\\lib\\site-packages\\ipykernel_launcher.py:13: SettingWithCopyWarning: \n",
      "A value is trying to be set on a copy of a slice from a DataFrame\n",
      "\n",
      "See the caveats in the documentation: http://pandas.pydata.org/pandas-docs/stable/user_guide/indexing.html#returning-a-view-versus-a-copy\n",
      "  del sys.path[0]\n",
      "C:\\Users\\KIIT\\Anaconda3\\lib\\site-packages\\ipykernel_launcher.py:15: SettingWithCopyWarning: \n",
      "A value is trying to be set on a copy of a slice from a DataFrame\n",
      "\n",
      "See the caveats in the documentation: http://pandas.pydata.org/pandas-docs/stable/user_guide/indexing.html#returning-a-view-versus-a-copy\n",
      "  from ipykernel import kernelapp as app\n",
      "C:\\Users\\KIIT\\Anaconda3\\lib\\site-packages\\ipykernel_launcher.py:16: SettingWithCopyWarning: \n",
      "A value is trying to be set on a copy of a slice from a DataFrame\n",
      "\n",
      "See the caveats in the documentation: http://pandas.pydata.org/pandas-docs/stable/user_guide/indexing.html#returning-a-view-versus-a-copy\n",
      "  app.launch_new_instance()\n",
      "C:\\Users\\KIIT\\Anaconda3\\lib\\site-packages\\ipykernel_launcher.py:17: SettingWithCopyWarning: \n",
      "A value is trying to be set on a copy of a slice from a DataFrame\n",
      "\n",
      "See the caveats in the documentation: http://pandas.pydata.org/pandas-docs/stable/user_guide/indexing.html#returning-a-view-versus-a-copy\n"
     ]
    }
   ],
   "source": [
    "mydata[\"M\"]=np.nan\n",
    "mydata[\"F\"]=np.nan\n",
    "mydata[\"I\"]=np.nan\n",
    "columnName=\"Sex\"\n",
    "for i in range(len(mydata[columnName])):\n",
    "    if mydata[columnName][i]=='M':\n",
    "        mydata[\"M\"][i]=1\n",
    "        mydata[\"F\"][i]=0\n",
    "        mydata[\"I\"][i]=0\n",
    "    elif mydata[columnName][i]=='F':\n",
    "        mydata[\"M\"][i]=0\n",
    "        mydata[\"F\"][i]=1\n",
    "        mydata[\"I\"][i]=0 \n",
    "    elif mydata[columnName][i]=='I':\n",
    "        mydata[\"M\"][i]=0\n",
    "        mydata[\"F\"][i]=0\n",
    "        mydata[\"I\"][i]=1\n",
    "mydata=mydata.drop([\"Sex\"],axis=1)        \n",
    "        "
   ]
  },
  {
   "cell_type": "code",
   "execution_count": 10,
   "metadata": {},
   "outputs": [
    {
     "data": {
      "text/plain": [
       "I                       -0.436063\n",
       "M                        0.181831\n",
       "F                        0.250279\n",
       "Shucked_weight           0.420884\n",
       "Viscera_weight           0.503819\n",
       "Whole_weight             0.540390\n",
       "Length                   0.556720\n",
       "Height                   0.557467\n",
       "Diameter                 0.574660\n",
       "Shell_weight             0.627574\n",
       "Class_number_of_rings    1.000000\n",
       "Name: Class_number_of_rings, dtype: float64"
      ]
     },
     "execution_count": 10,
     "metadata": {},
     "output_type": "execute_result"
    }
   ],
   "source": [
    "mydata.corr()['Class_number_of_rings'].sort_values()"
   ]
  },
  {
   "cell_type": "code",
   "execution_count": 14,
   "metadata": {
    "scrolled": true
   },
   "outputs": [
    {
     "name": "stdout",
     "output_type": "stream",
     "text": [
      "      Length  Diameter  Height  Whole_weight  Shucked_weight  Viscera_weight  \\\n",
      "0      0.455     0.365   0.095        0.5140          0.2245          0.1010   \n",
      "1      0.350     0.265   0.090        0.2255          0.0995          0.0485   \n",
      "2      0.530     0.420   0.135        0.6770          0.2565          0.1415   \n",
      "3      0.440     0.365   0.125        0.5160          0.2155          0.1140   \n",
      "4      0.330     0.255   0.080        0.2050          0.0895          0.0395   \n",
      "...      ...       ...     ...           ...             ...             ...   \n",
      "4172   0.565     0.450   0.165        0.8870          0.3700          0.2390   \n",
      "4173   0.590     0.440   0.135        0.9660          0.4390          0.2145   \n",
      "4174   0.600     0.475   0.205        1.1760          0.5255          0.2875   \n",
      "4175   0.625     0.485   0.150        1.0945          0.5310          0.2610   \n",
      "4176   0.710     0.555   0.195        1.9485          0.9455          0.3765   \n",
      "\n",
      "      Shell_weight    M    F    I  \n",
      "0           0.1500  1.0  0.0  0.0  \n",
      "1           0.0700  1.0  0.0  0.0  \n",
      "2           0.2100  0.0  1.0  0.0  \n",
      "3           0.1550  1.0  0.0  0.0  \n",
      "4           0.0550  0.0  0.0  1.0  \n",
      "...            ...  ...  ...  ...  \n",
      "4172        0.2490  0.0  1.0  0.0  \n",
      "4173        0.2605  1.0  0.0  0.0  \n",
      "4174        0.3080  1.0  0.0  0.0  \n",
      "4175        0.2960  0.0  1.0  0.0  \n",
      "4176        0.4950  1.0  0.0  0.0  \n",
      "\n",
      "[4177 rows x 10 columns]\n",
      "[[0.34932142 0.28022488 0.07293524 ... 0.76773938 0.         0.        ]\n",
      " [0.31071821 0.23525808 0.07989897 ... 0.88776632 0.         0.        ]\n",
      " [0.3689312  0.29236057 0.09397304 ... 0.         0.6960966  0.        ]\n",
      " ...\n",
      " [0.32236191 0.25520318 0.11014032 ... 0.53726985 0.         0.        ]\n",
      " [0.34488943 0.2676342  0.08277346 ... 0.         0.55182308 0.        ]\n",
      " [0.26975439 0.21086435 0.07408747 ... 0.37993576 0.         0.        ]]\n"
     ]
    }
   ],
   "source": [
    "from sklearn import preprocessing \n",
    "x=mydata.drop(['Class_number_of_rings'],axis=1)\n",
    "y=mydata['Class_number_of_rings']\n",
    "print(x)\n",
    "x=preprocessing.normalize(x)\n",
    "print(x)"
   ]
  },
  {
   "cell_type": "code",
   "execution_count": 16,
   "metadata": {},
   "outputs": [],
   "source": [
    "from sklearn.model_selection import train_test_split\n",
    "x_train,x_test,y_train,y_test=train_test_split(x,y,test_size=0.3,random_state=0)\n"
   ]
  },
  {
   "cell_type": "code",
   "execution_count": 17,
   "metadata": {},
   "outputs": [
    {
     "name": "stdout",
     "output_type": "stream",
     "text": [
      "Mean absolute error 2.08\n",
      "mean squared errior 9.04\n",
      "R2 score of Decision Tree 0.14\n"
     ]
    }
   ],
   "source": [
    "#DECISION_TREE\n",
    "from sklearn.metrics import mean_squared_error\n",
    "from sklearn.metrics import mean_absolute_error\n",
    "from sklearn.tree import DecisionTreeRegressor\n",
    "from sklearn.metrics import r2_score\n",
    "regressor=DecisionTreeRegressor(random_state=0)\n",
    "regressor.fit(x_train,y_train)\n",
    "y_predicted1=regressor.predict(x_test)\n",
    "mse1=mean_squared_error(y_test,y_predicted1)\n",
    "r21=r2_score(y_test,y_predicted1)\n",
    "mae1=mean_absolute_error(y_test,y_predicted1)\n",
    "print(\"Mean absolute error %.2f\"%mae1)\n",
    "print(\"mean squared errior %.2f\"%mse1)\n",
    "print(\"R2 score of Decision Tree %.2f\"%r21)"
   ]
  },
  {
   "cell_type": "code",
   "execution_count": 18,
   "metadata": {},
   "outputs": [
    {
     "name": "stdout",
     "output_type": "stream",
     "text": [
      "Mean absolute error 1.51\n",
      "mean squared errior 4.74\n",
      "R2 score of Decision Tree 0.55\n"
     ]
    }
   ],
   "source": [
    "#Linear Regression\n",
    "from sklearn.linear_model import LinearRegression\n",
    "linearRegressor=LinearRegression()\n",
    "linearRegressor.fit(x_train,y_train)\n",
    "y_predicted2=linearRegressor.predict(x_test)\n",
    "mse2=mean_squared_error(y_test,y_predicted2)\n",
    "r22=r2_score(y_test,y_predicted2)\n",
    "mae2=mean_absolute_error(y_test,y_predicted2)\n",
    "print(\"Mean absolute error %.2f\"%mae2)\n",
    "print(\"mean squared errior %.2f\"%mse2)\n",
    "print(\"R2 score of Decision Tree %.2f\"%r22)\n"
   ]
  },
  {
   "cell_type": "code",
   "execution_count": 19,
   "metadata": {},
   "outputs": [
    {
     "name": "stdout",
     "output_type": "stream",
     "text": [
      "Mean absolute error 1.45\n",
      "mean squared errior 4.41\n",
      "R2 score of Decision Tree 0.58\n"
     ]
    }
   ],
   "source": [
    "from sklearn.preprocessing import PolynomialFeatures\n",
    "polynomial_features=PolynomialFeatures(degree=2)\n",
    "x_poly=polynomial_features.fit_transform(x_train)\n",
    "x_poly_test=polynomial_features.fit_transform(x_test)\n",
    "model=LinearRegression()\n",
    "model.fit(x_poly,y_train)\n",
    "y_predicted3=model.predict(x_poly_test)\n",
    "mse3=mean_squared_error(y_test,y_predicted3)\n",
    "r23=r2_score(y_test,y_predicted3)\n",
    "mae3=mean_absolute_error(y_test,y_predicted3)\n",
    "print(\"Mean absolute error %.2f\"%mae3)\n",
    "print(\"mean squared errior %.2f\"%mse3)\n",
    "print(\"R2 score of Decision Tree %.2f\"%r23)\n",
    "\n"
   ]
  },
  {
   "cell_type": "code",
   "execution_count": 20,
   "metadata": {},
   "outputs": [
    {
     "name": "stdout",
     "output_type": "stream",
     "text": [
      "Mean absolute error 1.74\n",
      "mean squared errior 7.22\n",
      "R2 score of Decision Tree 0.32\n"
     ]
    },
    {
     "name": "stderr",
     "output_type": "stream",
     "text": [
      "C:\\Users\\KIIT\\Anaconda3\\lib\\site-packages\\sklearn\\ensemble\\forest.py:245: FutureWarning: The default value of n_estimators will change from 10 in version 0.20 to 100 in 0.22.\n",
      "  \"10 in version 0.20 to 100 in 0.22.\", FutureWarning)\n"
     ]
    }
   ],
   "source": [
    "from sklearn.ensemble import RandomForestClassifier\n",
    "rf=RandomForestClassifier()\n",
    "rf.fit(x_train,y_train)\n",
    "y_predicted4=rf.predict(x_test)\n",
    "mse4=mean_squared_error(y_test,y_predicted4)\n",
    "r24=r2_score(y_test,y_predicted4)\n",
    "mae4=mean_absolute_error(y_test,y_predicted4)\n",
    "print(\"Mean absolute error %.2f\"%mae4)\n",
    "print(\"mean squared errior %.2f\"%mse4)\n",
    "print(\"R2 score of Decision Tree %.2f\"%r24)\n",
    "\n",
    "\n"
   ]
  },
  {
   "cell_type": "code",
   "execution_count": 21,
   "metadata": {},
   "outputs": [
    {
     "name": "stderr",
     "output_type": "stream",
     "text": [
      "C:\\Users\\KIIT\\Anaconda3\\lib\\site-packages\\sklearn\\svm\\base.py:193: FutureWarning: The default value of gamma will change from 'auto' to 'scale' in version 0.22 to account better for unscaled features. Set gamma explicitly to 'auto' or 'scale' to avoid this warning.\n",
      "  \"avoid this warning.\", FutureWarning)\n"
     ]
    },
    {
     "name": "stdout",
     "output_type": "stream",
     "text": [
      "Mean absolute error 1.70\n",
      "mean squared errior 6.71\n",
      "R2 score of Decision Tree 0.36\n"
     ]
    }
   ],
   "source": [
    "from sklearn.svm import SVR\n",
    "regressor =SVR(kernel='rbf')\n",
    "regressor.fit(x_train,y_train)\n",
    "#s Predicting a new result\n",
    "y_predicted4=regressor.predict(x_test)\n",
    "mse4=mean_squared_error(y_test,y_predicted4)\n",
    "r24=r2_score(y_test,y_predicted4)\n",
    "mae4=mean_absolute_error(y_test,y_predicted4)\n",
    "print(\"Mean absolute error %.2f\"%mae4)\n",
    "print(\"mean squared errior %.2f\"%mse4)\n",
    "print(\"R2 score of Decision Tree %.2f\"%r24)\n",
    "\n"
   ]
  },
  {
   "cell_type": "code",
   "execution_count": null,
   "metadata": {},
   "outputs": [],
   "source": []
  }
 ],
 "metadata": {
  "kernelspec": {
   "display_name": "Python 3",
   "language": "python",
   "name": "python3"
  },
  "language_info": {
   "codemirror_mode": {
    "name": "ipython",
    "version": 3
   },
   "file_extension": ".py",
   "mimetype": "text/x-python",
   "name": "python",
   "nbconvert_exporter": "python",
   "pygments_lexer": "ipython3",
   "version": "3.7.4"
  }
 },
 "nbformat": 4,
 "nbformat_minor": 2
}
